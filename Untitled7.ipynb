{
 "cells": [
  {
   "cell_type": "code",
   "execution_count": 13,
   "id": "70f3907b-408d-4c9f-929f-5e454c4f3b31",
   "metadata": {},
   "outputs": [],
   "source": [
    "def print_board(board):\n",
    "    print(\"-------------\")\n",
    "    for row in board:\n",
    "        print(\"|\", end=\" \")\n",
    "        for cell in row:\n",
    "            print(f\" {cell} |\", end=\"\")\n",
    "        print(\"\\n-------------\")\n",
    "\n"
   ]
  },
  {
   "cell_type": "code",
   "execution_count": 14,
   "id": "525d2797-433c-4cca-b077-136a7aae64fc",
   "metadata": {},
   "outputs": [],
   "source": [
    "def check_winner(board, player):\n",
    "    for row in board:\n",
    "        if all(cell == player for cell in row):\n",
    "            return True\n",
    "    for col in range(3):\n",
    "        if all(board[row][column] == player for row in range(3)):\n",
    "            return True\n",
    "    if all(board[i][i] == player for i in range(3)):\n",
    "        return True\n",
    "    if all(board[i][2-i] == player for i in range(3)):\n",
    "        return True \n",
    "    return False\n",
    "    \n",
    "        "
   ]
  },
  {
   "cell_type": "code",
   "execution_count": 15,
   "id": "a030771b-3b93-441a-a88b-09c8b25d4a80",
   "metadata": {},
   "outputs": [],
   "source": [
    "def is_draw(board):\n",
    "    for row in board:\n",
    "        for cell in row:\n",
    "            if cell == \" \":\n",
    "                return False\n",
    "    return True"
   ]
  },
  {
   "cell_type": "code",
   "execution_count": 2,
   "id": "da4dd9ed-0498-4150-93ac-26d29a190035",
   "metadata": {},
   "outputs": [
    {
     "name": "stdout",
     "output_type": "stream",
     "text": [
      "WELCOME TO TIC - TAC - TOE\n",
      "  |   |  \n",
      "----------\n",
      "  |   |  \n",
      "----------\n",
      "  |   |  \n",
      "----------\n",
      "Current X's turn\n"
     ]
    },
    {
     "name": "stdin",
     "output_type": "stream",
     "text": [
      "Enter row (0,1,2):  1\n",
      "Enter column (0,1,2):  1\n"
     ]
    },
    {
     "name": "stdout",
     "output_type": "stream",
     "text": [
      "  |   |  \n",
      "----------\n",
      "  | X |  \n",
      "----------\n",
      "  |   |  \n",
      "----------\n",
      "Current O's turn\n"
     ]
    },
    {
     "name": "stdin",
     "output_type": "stream",
     "text": [
      "Enter row (0,1,2):  0\n",
      "Enter column (0,1,2):  1\n"
     ]
    },
    {
     "name": "stdout",
     "output_type": "stream",
     "text": [
      "  | O |  \n",
      "----------\n",
      "  | X |  \n",
      "----------\n",
      "  |   |  \n",
      "----------\n",
      "Current X's turn\n"
     ]
    },
    {
     "name": "stdin",
     "output_type": "stream",
     "text": [
      "Enter row (0,1,2):  0\n",
      "Enter column (0,1,2):  2\n"
     ]
    },
    {
     "name": "stdout",
     "output_type": "stream",
     "text": [
      "  | O | X\n",
      "----------\n",
      "  | X |  \n",
      "----------\n",
      "  |   |  \n",
      "----------\n",
      "Current O's turn\n"
     ]
    },
    {
     "name": "stdin",
     "output_type": "stream",
     "text": [
      "Enter row (0,1,2):  1\n",
      "Enter column (0,1,2):  0\n"
     ]
    },
    {
     "name": "stdout",
     "output_type": "stream",
     "text": [
      "  | O | X\n",
      "----------\n",
      "O | X |  \n",
      "----------\n",
      "  |   |  \n",
      "----------\n",
      "Current X's turn\n"
     ]
    },
    {
     "name": "stdin",
     "output_type": "stream",
     "text": [
      "Enter row (0,1,2):  2\n",
      "Enter column (0,1,2):  0\n"
     ]
    },
    {
     "name": "stdout",
     "output_type": "stream",
     "text": [
      "  | O | X\n",
      "----------\n",
      "O | X |  \n",
      "----------\n",
      "X |   |  \n",
      "----------\n",
      "Player X wins\n"
     ]
    }
   ],
   "source": [
    "def print_board(board):\n",
    "    for row in board:\n",
    "        print(\" | \".join(row))\n",
    "        print(\"-\" * 10)\n",
    "\n",
    "def check_winner(board, player):\n",
    "    # Check rows\n",
    "    for row in board:\n",
    "        if all(cell == player for cell in row):\n",
    "            return True\n",
    "    # Check columns\n",
    "    for col in range(3):\n",
    "        if all(board[row][col] == player for row in range(3)):\n",
    "            return True\n",
    "    # Check diagonals\n",
    "    if all(board[i][i] == player for i in range(3)) or all(board[i][2 - i] == player for i in range(3)):\n",
    "        return True\n",
    "    return False\n",
    "\n",
    "def is_draw(board):\n",
    "    for row in board:\n",
    "        if ' ' in row:\n",
    "            return False\n",
    "    return True\n",
    "\n",
    "def main():\n",
    "    board = [[' ' for _ in range(3)] for _ in range(3)]\n",
    "    players = ['X', 'O']\n",
    "    turn = 0\n",
    "    print(\"WELCOME TO TIC - TAC - TOE\")\n",
    "    while True:\n",
    "        current_player = players[turn % 2]\n",
    "\n",
    "        print_board(board)\n",
    "        print(f\"Current {current_player}'s turn\")\n",
    "        row = int(input(\"Enter row (0,1,2): \"))\n",
    "        column = int(input(\"Enter column (0,1,2): \"))\n",
    "        if board[row][column] != \" \":\n",
    "            print(\"Cell already occupied... Try Again!!!\")\n",
    "            continue\n",
    "        board[row][column] = current_player\n",
    "\n",
    "        if check_winner(board, current_player):\n",
    "            print_board(board)\n",
    "            print(f\"Player {current_player} wins\")\n",
    "            break\n",
    "        elif is_draw(board):\n",
    "            print_board(board)\n",
    "            print(\"It is a DRAW\")\n",
    "            break\n",
    "        turn += 1\n",
    "\n",
    "if __name__ == \"__main__\":\n",
    "    main()\n"
   ]
  },
  {
   "cell_type": "code",
   "execution_count": null,
   "id": "b27a55fa-7e2b-443c-a30a-4dd82ede91ae",
   "metadata": {},
   "outputs": [],
   "source": []
  }
 ],
 "metadata": {
  "kernelspec": {
   "display_name": "Python 3 (ipykernel)",
   "language": "python",
   "name": "python3"
  },
  "language_info": {
   "codemirror_mode": {
    "name": "ipython",
    "version": 3
   },
   "file_extension": ".py",
   "mimetype": "text/x-python",
   "name": "python",
   "nbconvert_exporter": "python",
   "pygments_lexer": "ipython3",
   "version": "3.11.7"
  }
 },
 "nbformat": 4,
 "nbformat_minor": 5
}
