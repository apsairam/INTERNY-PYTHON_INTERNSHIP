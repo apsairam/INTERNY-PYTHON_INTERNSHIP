{
 "cells": [
  {
   "cell_type": "code",
   "execution_count": 5,
   "id": "eb33d19c-d77e-4b97-ab5f-2d3fcd9f87bf",
   "metadata": {},
   "outputs": [
    {
     "name": "stdout",
     "output_type": "stream",
     "text": [
      "Collecting tkNote: you may need to restart the kernel to use updated packages.\n",
      "\n",
      "  Downloading tk-0.1.0-py3-none-any.whl.metadata (693 bytes)\n",
      "Downloading tk-0.1.0-py3-none-any.whl (3.9 kB)\n",
      "Installing collected packages: tk\n",
      "Successfully installed tk-0.1.0\n"
     ]
    }
   ],
   "source": [
    "pip install tk\n"
   ]
  },
  {
   "cell_type": "code",
   "execution_count": 29,
   "id": "72770dfc-a4a6-4b4a-9b6e-9a7b6fbbbafb",
   "metadata": {},
   "outputs": [],
   "source": [
    "import tkinter as tk\n",
    "from time import strftime"
   ]
  },
  {
   "cell_type": "code",
   "execution_count": 30,
   "id": "0632f20c-76e9-49b8-b5ca-c91d12d50802",
   "metadata": {},
   "outputs": [],
   "source": [
    "def update():\n",
    "    current = strftime(\"%H:%M:%S %p\")\n",
    "    label.config(text=current)\n",
    "    label.after(1000, update)"
   ]
  },
  {
   "cell_type": "code",
   "execution_count": 31,
   "id": "e92990ac-fbbc-49f6-ada3-6f2cafb026a2",
   "metadata": {},
   "outputs": [],
   "source": [
    "root = tk.Tk()\n",
    "root.title(\"DIGITAL CLOCK\")\n",
    "root.geometry(\"600x450\")\n",
    "root.configure(bg = \"blue\")"
   ]
  },
  {
   "cell_type": "code",
   "execution_count": null,
   "id": "15e89903-c9a2-423f-be59-7535df7ff5ba",
   "metadata": {},
   "outputs": [],
   "source": [
    "label = tk.Label(root , font = ('Helvetica' , 50 , \"bold\"), background = \"blue\" , foreground=\"red\")\n",
    "label.pack(expand = \"True\")\n",
    "label.bind('<Button-1>',lambda e: root.geometry(\"\"))\n",
    "\n",
    "update()\n",
    "root.mainloop()\n"
   ]
  },
  {
   "cell_type": "code",
   "execution_count": null,
   "id": "73a0e133-60b4-44ab-8029-6912d46198f2",
   "metadata": {},
   "outputs": [],
   "source": []
  },
  {
   "cell_type": "code",
   "execution_count": null,
   "id": "db853f7b-e530-4990-add5-8f9dc4554867",
   "metadata": {},
   "outputs": [],
   "source": []
  },
  {
   "cell_type": "code",
   "execution_count": null,
   "id": "82c2d029-5e53-4547-99b7-cadf350f8897",
   "metadata": {},
   "outputs": [],
   "source": []
  },
  {
   "cell_type": "code",
   "execution_count": null,
   "id": "7d2c17e0-80fe-4610-af19-5ce46c20283a",
   "metadata": {},
   "outputs": [],
   "source": []
  }
 ],
 "metadata": {
  "kernelspec": {
   "display_name": "Python 3 (ipykernel)",
   "language": "python",
   "name": "python3"
  },
  "language_info": {
   "codemirror_mode": {
    "name": "ipython",
    "version": 3
   },
   "file_extension": ".py",
   "mimetype": "text/x-python",
   "name": "python",
   "nbconvert_exporter": "python",
   "pygments_lexer": "ipython3",
   "version": "3.11.7"
  }
 },
 "nbformat": 4,
 "nbformat_minor": 5
}
